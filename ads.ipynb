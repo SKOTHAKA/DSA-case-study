{
  "nbformat": 4,
  "nbformat_minor": 0,
  "metadata": {
    "colab": {
      "provenance": []
    },
    "kernelspec": {
      "name": "python3",
      "display_name": "Python 3"
    },
    "language_info": {
      "name": "python"
    }
  },
  "cells": [
    {
      "cell_type": "markdown",
      "source": [
        "Single Linked List(Searching)"
      ],
      "metadata": {
        "id": "Bxwyqi8t2wM1"
      }
    },
    {
      "cell_type": "code",
      "source": [
        "import time\n",
        "\n",
        "class Node:\n",
        "    def __init__(self, data):\n",
        "        self.data = data\n",
        "        self.next = None\n",
        "\n",
        "class LinkedList:\n",
        "    def __init__(self):\n",
        "        self.head = None\n",
        "\n",
        "    def add(self, product):\n",
        "        new_node = Node(product)\n",
        "        if not self.head:\n",
        "            self.head = new_node\n",
        "        else:\n",
        "            current = self.head\n",
        "            while current.next:\n",
        "                current = current.next\n",
        "            current.next = new_node\n",
        "\n",
        "    def search(self, key, value):\n",
        "        results = []\n",
        "        current = self.head\n",
        "        while current:\n",
        "\n",
        "            if key == \"id\" and current.data.get(\"id\") == value:\n",
        "                return [current.data]\n",
        "            elif key == \"name\" and current.data.get(\"name\") == value:\n",
        "                return [current.data]\n",
        "            elif key == \"category\" and current.data.get(\"category\") == value:\n",
        "                results.append(current.data)\n",
        "            current = current.next\n",
        "        return results if results else None\n",
        "\n",
        "\n",
        "products = [\n",
        "    {\"id\": 1, \"name\": \"Product A\", \"price\": 10.99, \"category\": \"Electronics\"},\n",
        "    {\"id\": 3, \"name\": \"Product C\", \"price\": 49.99, \"category\": \"Books\"},\n",
        "    {\"id\": 4, \"name\": \"Product D\", \"price\": 19.99, \"category\": \"Home\"},\n",
        "    {\"id\": 5, \"name\": \"Product E\", \"price\": 9.99, \"category\": \"Kitchen\"},\n",
        "    {\"id\": 6, \"name\": \"Product F\", \"price\": 15.99, \"category\": \"Garden\"},\n",
        "    {\"id\": 10, \"name\": \"Product J\", \"price\": 39.99, \"category\": \"Sports\"},\n",
        "    {\"id\": 13, \"name\": \"Product M\", \"price\": 5.99, \"category\": \"Kitchen\"},\n",
        "    {\"id\": 14, \"name\": \"Product N\", \"price\": 25.99, \"category\": \"Books\"},\n",
        "    {\"id\": 16, \"name\": \"Product P\", \"price\": 29.99, \"category\": \"Home\"},\n",
        "    {\"id\": 17, \"name\": \"Product Q\", \"price\": 89.99, \"category\": \"Clothing\"},\n",
        "    {\"id\": 19, \"name\": \"Product S\", \"price\": 59.99, \"category\": \"Toys\"},\n",
        "]\n",
        "\n",
        "# Initialize the linked list and add products\n",
        "product_list = LinkedList()\n",
        "for product in products:\n",
        "    product_list.add(product)\n",
        "\n",
        "# Loop for multiple test cases\n",
        "while True:\n",
        "\n",
        "    key = input(\"Enter the attribute you want to search by (id, name, category) or type 'exit' to quit: \").strip()\n",
        "\n",
        "    if key.lower() == 'exit':\n",
        "        print(\"Exiting the program.\")\n",
        "        break\n",
        "\n",
        "\n",
        "    if key not in [\"id\", \"name\", \"category\"]:\n",
        "        print(\"Invalid attribute. Please enter 'id', 'name', or 'category'.\")\n",
        "        continue\n",
        "\n",
        "    value = input(f\"Enter the value you want to search for in '{key}': \").strip()\n",
        "\n",
        "\n",
        "    if key == \"id\":\n",
        "        try:\n",
        "            value = int(value)\n",
        "        except ValueError:\n",
        "            print(\"Invalid value for 'id'. Please enter a number.\")\n",
        "            continue\n",
        "\n",
        "\n",
        "    start_time = time.time()\n",
        "    results = product_list.search(key, value)\n",
        "    end_time = time.time()\n",
        "\n",
        "    if results:\n",
        "        print(\"Search results:\")\n",
        "        for result in results:\n",
        "            print(result)\n",
        "    else:\n",
        "        print(f\"No product found with {key} = {value}\")\n",
        "    print(\"Runtime for search:\", end_time - start_time, \"seconds\")\n"
      ],
      "metadata": {
        "colab": {
          "base_uri": "https://localhost:8080/"
        },
        "id": "e_Yzg7cTgYi7",
        "outputId": "5a79b2c4-330a-4744-be42-c5a94ec2e5f9"
      },
      "execution_count": null,
      "outputs": [
        {
          "output_type": "stream",
          "name": "stdout",
          "text": [
            "Enter the attribute you want to search by (id, name, category) or type 'exit' to quit: category\n",
            "Enter the value you want to search for in 'category': Kitchen\n",
            "Search results:\n",
            "{'id': 5, 'name': 'Product E', 'price': 9.99, 'category': 'Kitchen'}\n",
            "{'id': 13, 'name': 'Product M', 'price': 5.99, 'category': 'Kitchen'}\n",
            "Runtime for search: 1.8358230590820312e-05 seconds\n",
            "Enter the attribute you want to search by (id, name, category) or type 'exit' to quit: exit\n",
            "Exiting the program.\n"
          ]
        }
      ]
    },
    {
      "cell_type": "markdown",
      "source": [
        "Time Complexity"
      ],
      "metadata": {
        "id": "-AxHZwFrGoxp"
      }
    },
    {
      "cell_type": "code",
      "source": [
        "import time\n",
        "\n",
        "start_time = time.time()\n",
        "# Your code block\n",
        "end_time = time.time()\n",
        "print(\"Execution time:\", end_time - start_time, \"seconds\")\n"
      ],
      "metadata": {
        "colab": {
          "base_uri": "https://localhost:8080/"
        },
        "id": "A66pzJqp3_jX",
        "outputId": "b79dd7ce-c7a3-4595-fe6d-eeb5dd83f21b"
      },
      "execution_count": null,
      "outputs": [
        {
          "output_type": "stream",
          "name": "stdout",
          "text": [
            "Execution time: 4.792213439941406e-05 seconds\n"
          ]
        }
      ]
    },
    {
      "cell_type": "code",
      "source": [
        "pip install memory_profiler"
      ],
      "metadata": {
        "colab": {
          "base_uri": "https://localhost:8080/"
        },
        "id": "H51nDHlo4Nxs",
        "outputId": "1ef8d23a-62e5-4599-e7b6-9ebb6951897c"
      },
      "execution_count": null,
      "outputs": [
        {
          "output_type": "stream",
          "name": "stdout",
          "text": [
            "Collecting memory_profiler\n",
            "  Downloading memory_profiler-0.61.0-py3-none-any.whl.metadata (20 kB)\n",
            "Requirement already satisfied: psutil in /usr/local/lib/python3.10/dist-packages (from memory_profiler) (5.9.5)\n",
            "Downloading memory_profiler-0.61.0-py3-none-any.whl (31 kB)\n",
            "Installing collected packages: memory_profiler\n",
            "Successfully installed memory_profiler-0.61.0\n"
          ]
        }
      ]
    },
    {
      "cell_type": "markdown",
      "source": [
        "Space Complexity"
      ],
      "metadata": {
        "id": "h6ObeN8MGrte"
      }
    },
    {
      "cell_type": "code",
      "source": [
        "import sys\n",
        "\n",
        "# Define the functions and classes\n",
        "class Node:\n",
        "    def __init__(self, data):\n",
        "        self.data = data\n",
        "        self.next = None\n",
        "\n",
        "class LinkedList:\n",
        "    def __init__(self):\n",
        "        self.head = None\n",
        "\n",
        "    def add(self, data):\n",
        "        new_node = Node(data)\n",
        "        if not self.head:\n",
        "            self.head = new_node\n",
        "        else:\n",
        "            current = self.head\n",
        "            while current.next:\n",
        "                current = current.next\n",
        "            current.next = new_node\n",
        "\n",
        "    def search(self, key, value):\n",
        "        current = self.head\n",
        "        while current:\n",
        "            if current.data.get(key) == value:\n",
        "                return current.data\n",
        "            current = current.next\n",
        "        return None\n",
        "\n",
        "\n",
        "products = [\n",
        "    {\"id\": 1, \"name\": \"Product A\", \"price\": 10.99, \"category\": \"Electronics\"},\n",
        "    {\"id\": 3, \"name\": \"Product C\", \"price\": 49.99, \"category\": \"Books\"},\n",
        "    {\"id\": 4, \"name\": \"Product D\", \"price\": 19.99, \"category\": \"Home\"},\n",
        "    {\"id\": 5, \"name\": \"Product E\", \"price\": 9.99, \"category\": \"Kitchen\"},\n",
        "    {\"id\": 6, \"name\": \"Product F\", \"price\": 15.99, \"category\": \"Garden\"},\n",
        "    {\"id\": 10, \"name\": \"Product J\", \"price\": 39.99, \"category\": \"Sports\"},\n",
        "    {\"id\": 13, \"name\": \"Product M\", \"price\": 5.99, \"category\": \"Kitchen\"},\n",
        "    {\"id\": 14, \"name\": \"Product N\", \"price\": 25.99, \"category\": \"Books\"},\n",
        "    {\"id\": 16, \"name\": \"Product P\", \"price\": 29.99, \"category\": \"Home\"},\n",
        "    {\"id\": 17, \"name\": \"Product Q\", \"price\": 89.99, \"category\": \"Clothing\"},\n",
        "    {\"id\": 19, \"name\": \"Product S\", \"price\": 59.99, \"category\": \"Toys\"},\n",
        "]\n",
        "\n",
        "\n",
        "product_list = LinkedList()\n",
        "for product in products:\n",
        "    product_list.add(product)\n",
        "\n",
        "\n",
        "node_size = sys.getsizeof(Node(products[0]))\n",
        "data_size = sys.getsizeof(products[0])\n",
        "pointer_size = sys.getsizeof(None)\n",
        "\n",
        "print(f\"Estimated size of each node: {node_size + data_size + pointer_size} bytes\")\n",
        "\n",
        "# Calculate total space complexity for the linked list\n",
        "total_memory = sys.getsizeof(product_list)  # memory of the LinkedList instance\n",
        "current = product_list.head\n",
        "while current:\n",
        "    total_memory += sys.getsizeof(current) + sys.getsizeof(current.data) + pointer_size\n",
        "    current = current.next\n",
        "\n",
        "print(f\"Total estimated space complexity: {total_memory} bytes\")\n"
      ],
      "metadata": {
        "colab": {
          "base_uri": "https://localhost:8080/"
        },
        "id": "XIqjJ6bN4Wgc",
        "outputId": "40ccaf37-ec59-4c0a-ee82-5808ee6ef03e"
      },
      "execution_count": null,
      "outputs": [
        {
          "output_type": "stream",
          "name": "stdout",
          "text": [
            "Estimated size of each node: 296 bytes\n",
            "Total estimated space complexity: 3304 bytes\n"
          ]
        }
      ]
    },
    {
      "cell_type": "markdown",
      "source": [
        "Binary Search Tree(Searching)"
      ],
      "metadata": {
        "id": "f5GsfrAJ0Pju"
      }
    },
    {
      "cell_type": "code",
      "source": [
        "import time\n",
        "\n",
        "class ProductDatabase:\n",
        "    def __init__(self):\n",
        "        self.products = []           # List to store all products\n",
        "        self.index_by_id = {}         # Dictionary to index products by 'id'\n",
        "        self.index_by_name = {}       # Dictionary to index products by 'name'\n",
        "        self.index_by_category = {}   # Dictionary to index products by 'category'\n",
        "\n",
        "    def add(self, product):\n",
        "\n",
        "        self.products.append(product)\n",
        "\n",
        "\n",
        "        self.index_by_id[product[\"id\"]] = product\n",
        "\n",
        "        self.index_by_name[product[\"name\"]] = product\n",
        "\n",
        "        if product[\"category\"] not in self.index_by_category:\n",
        "            self.index_by_category[product[\"category\"]] = []\n",
        "        self.index_by_category[product[\"category\"]].append(product)\n",
        "\n",
        "    def search(self, key, value):\n",
        "        if key == \"id\":\n",
        "            return [self.index_by_id.get(value)] if value in self.index_by_id else None\n",
        "        elif key == \"name\":\n",
        "            return [self.index_by_name.get(value)] if value in self.index_by_name else None\n",
        "        elif key == \"category\":\n",
        "            return self.index_by_category.get(value, None)\n",
        "        return None\n",
        "\n",
        "\n",
        "products = [\n",
        "    {\"id\": 1, \"name\": \"Product A\", \"price\": 10.99, \"category\": \"Electronics\"},\n",
        "    {\"id\": 3, \"name\": \"Product C\", \"price\": 49.99, \"category\": \"Books\"},\n",
        "    {\"id\": 4, \"name\": \"Product D\", \"price\": 19.99, \"category\": \"Home\"},\n",
        "    {\"id\": 5, \"name\": \"Product E\", \"price\": 9.99, \"category\": \"Kitchen\"},\n",
        "    {\"id\": 6, \"name\": \"Product F\", \"price\": 15.99, \"category\": \"Garden\"},\n",
        "    {\"id\": 10, \"name\": \"Product J\", \"price\": 39.99, \"category\": \"Sports\"},\n",
        "    {\"id\": 13, \"name\": \"Product M\", \"price\": 5.99, \"category\": \"Kitchen\"},\n",
        "    {\"id\": 14, \"name\": \"Product N\", \"price\": 25.99, \"category\": \"Books\"},\n",
        "    {\"id\": 16, \"name\": \"Product P\", \"price\": 29.99, \"category\": \"Home\"},\n",
        "    {\"id\": 17, \"name\": \"Product Q\", \"price\": 89.99, \"category\": \"Clothing\"},\n",
        "    {\"id\": 19, \"name\": \"Product S\", \"price\": 59.99, \"category\": \"Toys\"},\n",
        "]\n",
        "\n",
        "product_database = ProductDatabase()\n",
        "for product in products:\n",
        "    product_database.add(product)\n",
        "\n",
        "# Loop for multiple test cases\n",
        "while True:\n",
        "\n",
        "    key = input(\"Enter the attribute you want to search by (id, name, category) or type 'exit' to quit: \").strip()\n",
        "\n",
        "    if key.lower() == 'exit':\n",
        "        print(\"Exiting the program.\")\n",
        "        break\n",
        "\n",
        "    if key not in [\"id\", \"name\", \"category\"]:\n",
        "        print(\"Invalid attribute. Please enter 'id', 'name', or 'category'.\")\n",
        "        continue\n",
        "\n",
        "    value = input(f\"Enter the value you want to search for in '{key}': \").strip()\n",
        "\n",
        "\n",
        "    if key == \"id\":\n",
        "        try:\n",
        "            value = int(value)\n",
        "        except ValueError:\n",
        "            print(\"Invalid value for 'id'. Please enter a number.\")\n",
        "            continue\n",
        "\n",
        "    start_time = time.time()\n",
        "    results = product_database.search(key, value)\n",
        "    end_time = time.time()\n",
        "\n",
        "    # Display search results and runtime\n",
        "    if results:\n",
        "        print(\"Search results:\")\n",
        "        for result in results:\n",
        "            print(result)\n",
        "    else:\n",
        "        print(f\"No product found with {key} = {value}\")\n",
        "    print(\"Runtime for search:\", end_time - start_time, \"seconds\")\n"
      ],
      "metadata": {
        "colab": {
          "base_uri": "https://localhost:8080/"
        },
        "id": "KPwtas4Y0SiM",
        "outputId": "fe3b5813-1336-4670-90e0-10dff0f08866"
      },
      "execution_count": null,
      "outputs": [
        {
          "output_type": "stream",
          "name": "stdout",
          "text": [
            "Enter the attribute you want to search by (id, name, category) or type 'exit' to quit: category\n",
            "Enter the value you want to search for in 'category': id\n",
            "No product found with category = id\n",
            "Runtime for search: 6.9141387939453125e-06 seconds\n",
            "Enter the attribute you want to search by (id, name, category) or type 'exit' to quit: 3\n",
            "Invalid attribute. Please enter 'id', 'name', or 'category'.\n",
            "Enter the attribute you want to search by (id, name, category) or type 'exit' to quit: category\n",
            "Enter the value you want to search for in 'category': Books\n",
            "Search results:\n",
            "{'id': 3, 'name': 'Product C', 'price': 49.99, 'category': 'Books'}\n",
            "{'id': 14, 'name': 'Product N', 'price': 25.99, 'category': 'Books'}\n",
            "Runtime for search: 6.4373016357421875e-06 seconds\n",
            "Enter the attribute you want to search by (id, name, category) or type 'exit' to quit: exit\n",
            "Exiting the program.\n"
          ]
        }
      ]
    },
    {
      "cell_type": "markdown",
      "source": [
        "Time Complexity"
      ],
      "metadata": {
        "id": "kUGQyRFoGvhZ"
      }
    },
    {
      "cell_type": "code",
      "source": [
        "import time\n",
        "\n",
        "start_time = time.time()\n",
        "# Your code block\n",
        "end_time = time.time()\n",
        "print(\"Execution time:\", end_time - start_time, \"seconds\")\n"
      ],
      "metadata": {
        "colab": {
          "base_uri": "https://localhost:8080/"
        },
        "id": "Ej5eQFM44Ffw",
        "outputId": "8e20f6da-a693-49e1-ed66-a38acbccb30a"
      },
      "execution_count": null,
      "outputs": [
        {
          "output_type": "stream",
          "name": "stdout",
          "text": [
            "Execution time: 5.1021575927734375e-05 seconds\n"
          ]
        }
      ]
    },
    {
      "cell_type": "markdown",
      "source": [
        "Space Complexity"
      ],
      "metadata": {
        "id": "kxm-E-XRG0Rn"
      }
    },
    {
      "cell_type": "code",
      "source": [
        "import sys\n",
        "\n",
        "class Node:\n",
        "    def __init__(self, data):\n",
        "        self.data = data\n",
        "        self.left = None\n",
        "        self.right = None\n",
        "\n",
        "class BinarySearchTree:\n",
        "    def __init__(self):\n",
        "        self.root = None\n",
        "\n",
        "    def insert(self, data):\n",
        "        if self.root is None:\n",
        "            self.root = Node(data)\n",
        "            return\n",
        "        current = self.root\n",
        "        while True:\n",
        "            if data[\"id\"] < current.data[\"id\"]:\n",
        "                if current.left is None:\n",
        "                    current.left = Node(data)\n",
        "                    return\n",
        "                current = current.left\n",
        "            else:\n",
        "                if current.right is None:\n",
        "                    current.right = Node(data)\n",
        "                    return\n",
        "                current = current.right\n",
        "\n",
        "products = [\n",
        "    {\"id\": 1, \"name\": \"Product A\", \"price\": 10.99, \"category\": \"Electronics\"},\n",
        "    {\"id\": 3, \"name\": \"Product C\", \"price\": 49.99, \"category\": \"Books\"},\n",
        "    {\"id\": 4, \"name\": \"Product D\", \"price\": 19.99, \"category\": \"Home\"},\n",
        "    {\"id\": 5, \"name\": \"Product E\", \"price\": 9.99, \"category\": \"Kitchen\"},\n",
        "    {\"id\": 6, \"name\": \"Product F\", \"price\": 15.99, \"category\": \"Garden\"},\n",
        "    {\"id\": 10, \"name\": \"Product J\", \"price\": 39.99, \"category\": \"Sports\"},\n",
        "    {\"id\": 13, \"name\": \"Product M\", \"price\": 5.99, \"category\": \"Kitchen\"},\n",
        "    {\"id\": 14, \"name\": \"Product N\", \"price\": 25.99, \"category\": \"Books\"},\n",
        "    {\"id\": 16, \"name\": \"Product P\", \"price\": 29.99, \"category\": \"Home\"},\n",
        "    {\"id\": 17, \"name\": \"Product Q\", \"price\": 89.99, \"category\": \"Clothing\"},\n",
        "    {\"id\": 19, \"name\": \"Product S\", \"price\": 59.99, \"category\": \"Toys\"},\n",
        "]\n",
        "\n",
        "# Initialize the BST and add products\n",
        "product_tree = BinarySearchTree()\n",
        "for product in products:\n",
        "    product_tree.insert(product)\n",
        "\n",
        "# Calculate memory size for a single node\n",
        "node_size = sys.getsizeof(Node(products[0]))  # Size of Node object without data\n",
        "data_size = sys.getsizeof(products[0])  # Size of data dictionary in each node\n",
        "pointer_size = sys.getsizeof(None)  # Size of each child pointer (left/right)\n",
        "\n",
        "print(f\"Estimated size of each node: {node_size + data_size + 2 * pointer_size} bytes\")\n",
        "\n",
        "# Calculate total space complexity for the BST\n",
        "total_memory = sys.getsizeof(product_tree)  # memory of the BST instance\n",
        "current = product_tree.root\n",
        "nodes = [current]  # initialize a list to keep track of nodes\n",
        "\n",
        "# Traverse all nodes to accumulate total memory\n",
        "while nodes:\n",
        "    node = nodes.pop()\n",
        "    if node:\n",
        "        total_memory += sys.getsizeof(node) + sys.getsizeof(node.data) + 2 * pointer_size\n",
        "        nodes.append(node.left)\n",
        "        nodes.append(node.right)\n",
        "\n",
        "print(f\"Total estimated space complexity: {total_memory} bytes\")\n"
      ],
      "metadata": {
        "colab": {
          "base_uri": "https://localhost:8080/"
        },
        "id": "saBC5kxK4KYE",
        "outputId": "b12ede31-4610-4681-a029-cdc4730f1682"
      },
      "execution_count": null,
      "outputs": [
        {
          "output_type": "stream",
          "name": "stdout",
          "text": [
            "Estimated size of each node: 312 bytes\n",
            "Total estimated space complexity: 3480 bytes\n"
          ]
        }
      ]
    },
    {
      "cell_type": "code",
      "source": [
        "import time\n",
        "\n",
        "# Node for the linked list\n",
        "class ListNode:\n",
        "    def __init__(self, product):\n",
        "        self.product = product\n",
        "        self.next = None\n",
        "\n",
        "# Node for the binary search tree (BST)\n",
        "class TreeNode:\n",
        "    def __init__(self, product):\n",
        "        self.product = product\n",
        "        self.left = None\n",
        "        self.right = None\n",
        "\n",
        "# Linked list class to store products in sequence\n",
        "class LinkedList:\n",
        "    def __init__(self):\n",
        "        self.head = None\n",
        "\n",
        "    def add(self, product):\n",
        "        new_node = ListNode(product)\n",
        "        if not self.head:\n",
        "            self.head = new_node\n",
        "        else:\n",
        "            current = self.head\n",
        "            while current.next:\n",
        "                current = current.next\n",
        "            current.next = new_node\n",
        "\n",
        "# Binary search tree class for efficient searching by `id`\n",
        "class BST:\n",
        "    def __init__(self):\n",
        "        self.root = None\n",
        "\n",
        "    def add(self, product):\n",
        "        self.root = self._add_recursive(self.root, product)\n",
        "\n",
        "    def _add_recursive(self, node, product):\n",
        "        if node is None:\n",
        "            return TreeNode(product)\n",
        "        elif product[\"id\"] < node.product[\"id\"]:\n",
        "            node.left = self._add_recursive(node.left, product)\n",
        "        else:\n",
        "            node.right = self._add_recursive(node.right, product)\n",
        "        return node\n",
        "\n",
        "    def search_by_id(self, id_value):\n",
        "        return self._search_by_id_recursive(self.root, id_value)\n",
        "\n",
        "    def _search_by_id_recursive(self, node, id_value):\n",
        "        if node is None:\n",
        "            return None\n",
        "        if node.product[\"id\"] == id_value:\n",
        "            return node.product\n",
        "        elif id_value < node.product[\"id\"]:\n",
        "            return self._search_by_id_recursive(node.left, id_value)\n",
        "        else:\n",
        "            return self._search_by_id_recursive(node.right, id_value)\n",
        "\n",
        "# Combined ProductDatabase class with LinkedList and BST for optimized search\n",
        "class ProductDatabase:\n",
        "    def __init__(self):\n",
        "        self.product_list = LinkedList()  # Linked list for product sequence\n",
        "        self.bst_by_id = BST()            # BST for searching by `id`\n",
        "        self.index_by_name = {}           # Dictionary for searching by `name`\n",
        "        self.index_by_category = {}       # Dictionary for searching by `category`\n",
        "\n",
        "    def add(self, product):\n",
        "        # Add to linked list\n",
        "        self.product_list.add(product)\n",
        "\n",
        "        # Add to BST by `id`\n",
        "        self.bst_by_id.add(product)\n",
        "\n",
        "        # Index by `name`\n",
        "        self.index_by_name[product[\"name\"]] = product\n",
        "\n",
        "        # Index by `category` (could have multiple products in the same category)\n",
        "        if product[\"category\"] not in self.index_by_category:\n",
        "            self.index_by_category[product[\"category\"]] = []\n",
        "        self.index_by_category[product[\"category\"]].append(product)\n",
        "\n",
        "    def search(self, key, value):\n",
        "        if key == \"id\":\n",
        "            # Search by `id` in BST\n",
        "            return [self.bst_by_id.search_by_id(value)]\n",
        "        elif key == \"name\":\n",
        "            # Search by `name` in dictionary\n",
        "            return [self.index_by_name.get(value)] if value in self.index_by_name else None\n",
        "        elif key == \"category\":\n",
        "            # Search by `category` in dictionary\n",
        "            return self.index_by_category.get(value, None)\n",
        "        return None\n",
        "\n",
        "# Sample data for products\n",
        "products = [\n",
        "    {\"id\": 1, \"name\": \"Product A\", \"price\": 10.99, \"category\": \"Electronics\"},\n",
        "    {\"id\": 3, \"name\": \"Product C\", \"price\": 49.99, \"category\": \"Books\"},\n",
        "    {\"id\": 4, \"name\": \"Product D\", \"price\": 19.99, \"category\": \"Home\"},\n",
        "    {\"id\": 5, \"name\": \"Product E\", \"price\": 9.99, \"category\": \"Kitchen\"},\n",
        "    {\"id\": 6, \"name\": \"Product F\", \"price\": 15.99, \"category\": \"Garden\"},\n",
        "    {\"id\": 10, \"name\": \"Product J\", \"price\": 39.99, \"category\": \"Sports\"},\n",
        "    {\"id\": 13, \"name\": \"Product M\", \"price\": 5.99, \"category\": \"Kitchen\"},\n",
        "    {\"id\": 14, \"name\": \"Product N\", \"price\": 25.99, \"category\": \"Books\"},\n",
        "    {\"id\": 16, \"name\": \"Product P\", \"price\": 29.99, \"category\": \"Home\"},\n",
        "    {\"id\": 17, \"name\": \"Product Q\", \"price\": 89.99, \"category\": \"Clothing\"},\n",
        "    {\"id\": 19, \"name\": \"Product S\", \"price\": 59.99, \"category\": \"Toys\"},\n",
        "]\n",
        "\n",
        "# Initialize the ProductDatabase and add products\n",
        "product_database = ProductDatabase()\n",
        "for product in products:\n",
        "    product_database.add(product)\n",
        "\n",
        "# Loop for multiple test cases\n",
        "while True:\n",
        "    # Get user input for search criteria\n",
        "    key = input(\"Enter the attribute you want to search by (id, name, category) or type 'exit' to quit: \").strip()\n",
        "\n",
        "    # Exit if the user types 'exit'\n",
        "    if key.lower() == 'exit':\n",
        "        print(\"Exiting the program.\")\n",
        "        break\n",
        "\n",
        "    # Ensure the attribute is valid\n",
        "    if key not in [\"id\", \"name\", \"category\"]:\n",
        "        print(\"Invalid attribute. Please enter 'id', 'name', or 'category'.\")\n",
        "        continue\n",
        "\n",
        "    # Get the value to search for\n",
        "    value = input(f\"Enter the value you want to search for in '{key}': \").strip()\n",
        "\n",
        "    # Convert 'value' to integer if searching by 'id'\n",
        "    if key == \"id\":\n",
        "        try:\n",
        "            value = int(value)\n",
        "        except ValueError:\n",
        "            print(\"Invalid value for 'id'. Please enter a number.\")\n",
        "            continue\n",
        "\n",
        "    # Measure runtime for the search\n",
        "    start_time = time.time()\n",
        "    results = product_database.search(key, value)\n",
        "    end_time = time.time()\n",
        "\n",
        "    # Display search results and runtime\n",
        "    if results:\n",
        "        print(\"Search results:\")\n",
        "        for result in results:\n",
        "            print(result)\n",
        "    else:\n",
        "        print(f\"No product found with {key} = {value}\")\n",
        "    print(\"Runtime for search:\", end_time - start_time, \"seconds\")\n"
      ],
      "metadata": {
        "colab": {
          "base_uri": "https://localhost:8080/"
        },
        "id": "oibflPZtSzOI",
        "outputId": "db5b2088-ac50-4ee8-9190-1a95407ee27c"
      },
      "execution_count": null,
      "outputs": [
        {
          "output_type": "stream",
          "name": "stdout",
          "text": [
            "Enter the attribute you want to search by (id, name, category) or type 'exit' to quit: category\n",
            "Enter the value you want to search for in 'category': Book\n",
            "No product found with category = Book\n",
            "Runtime for search: 5.7220458984375e-06 seconds\n",
            "Enter the attribute you want to search by (id, name, category) or type 'exit' to quit: exit\n",
            "Exiting the program.\n"
          ]
        }
      ]
    },
    {
      "cell_type": "code",
      "source": [
        "import time\n",
        "\n",
        "start_time = time.time()\n",
        "# Your code block\n",
        "end_time = time.time()\n",
        "print(\"Execution time:\", end_time - start_time, \"seconds\")\n"
      ],
      "metadata": {
        "colab": {
          "base_uri": "https://localhost:8080/"
        },
        "id": "qdX1NXPuS8_5",
        "outputId": "08daed51-4315-4380-d092-ee27671e4b9a"
      },
      "execution_count": null,
      "outputs": [
        {
          "output_type": "stream",
          "name": "stdout",
          "text": [
            "Execution time: 5.173683166503906e-05 seconds\n"
          ]
        }
      ]
    },
    {
      "cell_type": "code",
      "source": [
        "import sys\n",
        "\n",
        "class ListNode:\n",
        "    def __init__(self, product):\n",
        "        self.product = product\n",
        "        self.next = None\n",
        "\n",
        "class TreeNode:\n",
        "    def __init__(self, product):\n",
        "        self.product = product\n",
        "        self.left = None\n",
        "        self.right = None\n",
        "\n",
        "class LinkedList:\n",
        "    def __init__(self):\n",
        "        self.head = None\n",
        "\n",
        "    def add(self, product):\n",
        "        new_node = ListNode(product)\n",
        "        if not self.head:\n",
        "            self.head = new_node\n",
        "        else:\n",
        "            current = self.head\n",
        "            while current.next:\n",
        "                current = current.next\n",
        "            current.next = new_node\n",
        "\n",
        "class BinarySearchTree:\n",
        "    def __init__(self):\n",
        "        self.root = None\n",
        "\n",
        "    def insert(self, product):\n",
        "        if self.root is None:\n",
        "            self.root = TreeNode(product)\n",
        "            return\n",
        "        current = self.root\n",
        "        while True:\n",
        "            if product[\"id\"] < current.product[\"id\"]:\n",
        "                if current.left is None:\n",
        "                    current.left = TreeNode(product)\n",
        "                    return\n",
        "                current = current.left\n",
        "            else:\n",
        "                if current.right is None:\n",
        "                    current.right = TreeNode(product)\n",
        "                    return\n",
        "                current = current.right\n",
        "\n",
        "class ProductDatabase:\n",
        "    def __init__(self):\n",
        "        self.product_list = LinkedList()  # Linked list for product sequence\n",
        "        self.bst_by_id = BinarySearchTree()  # BST for searching by `id`\n",
        "\n",
        "    def add(self, product):\n",
        "        # Add to linked list\n",
        "        self.product_list.add(product)\n",
        "\n",
        "        # Add to BST by `id`\n",
        "        self.bst_by_id.insert(product)\n",
        "\n",
        "# Sample data for products\n",
        "products = [\n",
        "    {\"id\": 1, \"name\": \"Product A\", \"price\": 10.99, \"category\": \"Electronics\"},\n",
        "    {\"id\": 3, \"name\": \"Product C\", \"price\": 49.99, \"category\": \"Books\"},\n",
        "    {\"id\": 4, \"name\": \"Product D\", \"price\": 19.99, \"category\": \"Home\"},\n",
        "    {\"id\": 5, \"name\": \"Product E\", \"price\": 9.99, \"category\": \"Kitchen\"},\n",
        "    {\"id\": 6, \"name\": \"Product F\", \"price\": 15.99, \"category\": \"Garden\"},\n",
        "    {\"id\": 10, \"name\": \"Product J\", \"price\": 39.99, \"category\": \"Sports\"},\n",
        "    {\"id\": 13, \"name\": \"Product M\", \"price\": 5.99, \"category\": \"Kitchen\"},\n",
        "    {\"id\": 14, \"name\": \"Product N\", \"price\": 25.99, \"category\": \"Books\"},\n",
        "    {\"id\": 16, \"name\": \"Product P\", \"price\": 29.99, \"category\": \"Home\"},\n",
        "    {\"id\": 17, \"name\": \"Product Q\", \"price\": 89.99, \"category\": \"Clothing\"},\n",
        "    {\"id\": 19, \"name\": \"Product S\", \"price\": 59.99, \"category\": \"Toys\"},\n",
        "]\n",
        "\n",
        "# Initialize the ProductDatabase and add products\n",
        "product_database = ProductDatabase()\n",
        "for product in products:\n",
        "    product_database.add(product)\n",
        "\n",
        "# Calculate memory size for a single node in the BST\n",
        "node_size = sys.getsizeof(TreeNode(products[0]))  # Size of TreeNode object without data\n",
        "data_size = sys.getsizeof(products[0])  # Size of data dictionary in each node\n",
        "pointer_size = sys.getsizeof(None)  # Size of each child pointer (left/right)\n",
        "\n",
        "# Estimate size of each BST node\n",
        "estimated_bst_node_size = node_size + data_size + 2 * pointer_size\n",
        "print(f\"Estimated size of each BST node: {estimated_bst_node_size} bytes\")\n",
        "\n",
        "# Calculate total space complexity for the BST\n",
        "total_memory_bst = sys.getsizeof(product_database.bst_by_id)  # memory of the BST instance\n",
        "current = product_database.bst_by_id.root\n",
        "bst_nodes = [current]  # initialize a list to keep track of BST nodes\n",
        "\n",
        "# Traverse all BST nodes to accumulate total memory\n",
        "while bst_nodes:\n",
        "    node = bst_nodes.pop()\n",
        "    if node:\n",
        "        total_memory_bst += sys.getsizeof(node) + sys.getsizeof(node.product) + 2 * pointer_size\n",
        "        bst_nodes.append(node.left)\n",
        "        bst_nodes.append(node.right)\n",
        "\n",
        "print(f\"Total estimated space complexity for BST: {total_memory_bst} bytes\")\n",
        "\n",
        "# Calculate memory size for a single node in the linked list\n",
        "ll_node_size = sys.getsizeof(ListNode(products[0]))  # Size of ListNode object without data\n",
        "\n",
        "# Calculate total space complexity for the linked list\n",
        "total_memory_ll = sys.getsizeof(product_database.product_list)  # memory of the LinkedList instance\n",
        "current_ll = product_database.product_list.head\n",
        "ll_nodes = [current_ll]  # initialize a list to keep track of LinkedList nodes\n",
        "\n",
        "# Traverse all linked list nodes to accumulate total memory\n",
        "while ll_nodes:\n",
        "    node = ll_nodes.pop()\n",
        "    if node:\n",
        "        total_memory_ll += sys.getsizeof(node) + sys.getsizeof(node.product) + pointer_size\n",
        "        ll_nodes.append(node.next)\n",
        "\n",
        "print(f\"Total estimated space complexity for Linked List: {total_memory_ll} bytes\")\n",
        "\n",
        "# Combined total space complexity\n",
        "combined_total_memory = total_memory_bst + total_memory_ll\n",
        "print(f\"Combined total estimated space complexity: {combined_total_memory} bytes\")\n"
      ],
      "metadata": {
        "colab": {
          "base_uri": "https://localhost:8080/"
        },
        "id": "9MQyS_9VTjej",
        "outputId": "455bb104-f6dc-4e4c-bd97-e4496678978b"
      },
      "execution_count": null,
      "outputs": [
        {
          "output_type": "stream",
          "name": "stdout",
          "text": [
            "Estimated size of each BST node: 312 bytes\n",
            "Total estimated space complexity for BST: 3480 bytes\n",
            "Total estimated space complexity for Linked List: 3304 bytes\n",
            "Combined total estimated space complexity: 6784 bytes\n"
          ]
        }
      ]
    }
  ]
}